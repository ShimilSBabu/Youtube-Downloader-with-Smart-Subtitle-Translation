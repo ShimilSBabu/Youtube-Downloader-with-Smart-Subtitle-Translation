{
  "cells": [
    {
      "cell_type": "markdown",
      "metadata": {
        "id": "view-in-github",
        "colab_type": "text"
      },
      "source": [
        "<a href=\"https://colab.research.google.com/github/ShimilSBabu/Youtube-Downloader-with-Smart-Subtitle-Translation/blob/main/subtitle_translation_pytube_easy_ocr.ipynb\" target=\"_parent\"><img src=\"https://colab.research.google.com/assets/colab-badge.svg\" alt=\"Open In Colab\"/></a>"
      ]
    },
    {
      "cell_type": "markdown",
      "metadata": {
        "id": "2JDVJx_SqX_m"
      },
      "source": [
        "# Mounting Gooogle Drive"
      ]
    },
    {
      "cell_type": "code",
      "execution_count": null,
      "metadata": {
        "id": "BjXPvfGav_Qc"
      },
      "outputs": [],
      "source": [
        "# from google.colab import drive\n",
        "# drive.mount('/content/drive')"
      ]
    },
    {
      "cell_type": "markdown",
      "metadata": {
        "id": "NY0EpvFNqeCb"
      },
      "source": [
        "# Installing required libraries"
      ]
    },
    {
      "cell_type": "code",
      "source": [
        "import os"
      ],
      "metadata": {
        "id": "rP2JRGpOmqTb"
      },
      "execution_count": null,
      "outputs": []
    },
    {
      "cell_type": "code",
      "execution_count": null,
      "metadata": {
        "id": "LITHPx3KvEMK"
      },
      "outputs": [],
      "source": [
        "!pip3 install easyocr\n",
        "!pip install -U deep-translator\n",
        "!pip install pytube"
      ]
    },
    {
      "cell_type": "markdown",
      "metadata": {
        "id": "Xy-uwegBqjf0"
      },
      "source": [
        "# Importing libraries"
      ]
    },
    {
      "cell_type": "code",
      "execution_count": null,
      "metadata": {
        "id": "9TCk18r-Wbe0"
      },
      "outputs": [],
      "source": [
        "import cv2\n",
        "import easyocr\n",
        "import numpy as np\n",
        "from pytube import YouTube\n",
        "from google.colab import files\n",
        "# from google.colab.patches import cv2_imshow\n",
        "from deep_translator import GoogleTranslator"
      ]
    },
    {
      "cell_type": "markdown",
      "metadata": {
        "id": "uMVX2nfH24OK"
      },
      "source": [
        "# Initializing Constants"
      ]
    },
    {
      "cell_type": "code",
      "execution_count": null,
      "metadata": {
        "id": "SFuFzne56BSo"
      },
      "outputs": [],
      "source": [
        "OCR_TH = 0.2\n",
        "resolutions = ['1080p', '720p', '480p', '360p', '240p', '144p']\n",
        "\n",
        "source_languages_map = {\n",
        "    \n",
        "  \"Abaza\":\"abq\",\n",
        "  \"Adyghe\":\"ady\",\n",
        "  \"Afrikaans\":\"af\",\n",
        "  \"Angika\":\"ang\",\n",
        "  \"Arabic\":\"ar\",\n",
        "  \"Assamese\":\"as\",\n",
        "  \"Avar\":\"ava\",\n",
        "  \"Azerbaijani\":\"az\",\n",
        "  \"Belarusian\":\"be\",\n",
        "  \"Bulgarian\":\"bg\",\n",
        "  \"Bihari\":\"bh\",\n",
        "  \"Bhojpuri\":\"bho\",\n",
        "  \"Bengali\":\"bn\",\n",
        "  \"Bosnian\":\"bs\",\n",
        "  \"Simplified Chinese\":\"ch_sim\",\n",
        "  \"Traditional Chinese\":\"ch_tra\",\n",
        "  \"Chechen\":\"che\",\n",
        "  \"Czech\":\"cs\",\n",
        "  \"Welsh\":\"cy\",\n",
        "  \"Danish\":\"da\",\n",
        "  \"Dargwa\":\"dar\",\n",
        "  \"German\":\"de\",\n",
        "  \"English\":\"en\",\n",
        "  \"Spanish\":\"es\",\n",
        "  \"Estonian\":\"et\",\n",
        "  \"Persian (Farsi)\":\"fa\",\n",
        "  \"French\":\"fr\",\n",
        "  \"Irish\":\"ga\",\n",
        "  \"Goan Konkani\":\"gom\",\n",
        "  \"Hindi\":\"hi\",\n",
        "  \"Croatian\":\"hr\",\n",
        "  \"Hungarian\":\"hu\",\n",
        "  \"Indonesian\":\"id\",\n",
        "  \"Ingush\":\"inh\",\n",
        "  \"Icelandic\":\"is\",\n",
        "  \"Italian\":\"it\",\n",
        "  \"Japanese\":\"ja\",\n",
        "  \"Kabardian\":\"kbd\",\n",
        "  \"Kannada\":\"kn\",\n",
        "  \"Korean\":\"ko\",\n",
        "  \"Kurdish\":\"ku\",\n",
        "  \"Latin\":\"la\",\n",
        "  \"Lak\":\"lbe\",\n",
        "  \"Lezghian\":\"lez\",\n",
        "  \"Lithuanian\":\"lt\",\n",
        "  \"Latvian\":\"lv\",\n",
        "  \"Magahi\":\"mah\",\n",
        "  \"Maithili\":\"mai\",\n",
        "  \"Maori\":\"mi\",\n",
        "  \"Mongolian\":\"mn\",\n",
        "  \"Marathi\":\"mr\",\n",
        "  \"Malay\":\"ms\",\n",
        "  \"Maltese\":\"mt\",\n",
        "  \"Nepali\":\"ne\",\n",
        "  \"Newari\":\"new\",\n",
        "  \"Dutch\":\"nl\",\n",
        "  \"Norwegian\":\"no\",\n",
        "  \"Occitan\":\"oc\",\n",
        "  \"Pali\":\"pi\",\n",
        "  \"Polish\":\"pl\",\n",
        "  \"Portuguese\":\"pt\",\n",
        "  \"Romanian\":\"ro\",\n",
        "  \"Russian\":\"ru\",\n",
        "  \"Serbian (cyrillic)\":\"rs_cyrillic\",\n",
        "  \"Serbian (latin)\":\"rs_latin\",\n",
        "  \"Nagpuri\":\"sck\",\n",
        "  \"Slovak\":\"sk\",\n",
        "  \"Slovenian\":\"sl\",\n",
        "  \"Albanian\":\"sq\",\n",
        "  \"Swedish\":\"sv\",\n",
        "  \"Swahili\":\"sw\",\n",
        "  \"Tamil\":\"ta\",\n",
        "  \"Tabassaran\":\"tab\",\n",
        "  \"Telugu\":\"te\",\n",
        "  \"Thai\":\"th\",\n",
        "  \"Tajik\":\"tjk\",\n",
        "  \"Tagalog\":\"tl\",\n",
        "  \"Turkish\":\"tr\",\n",
        "  \"Uyghur\":\"ug\",\n",
        "  \"Ukranian\":\"uk\",\n",
        "  \"Urdu\":\"ur\",\n",
        "  \"Uzbek\":\"uz\",\n",
        "  \"Vietnamese\":\"vi\"\n",
        "}\n",
        "\n",
        "target_languages_map = {\n",
        "    \"Afrikaans\":\"af\",\n",
        "    \"Albanian\":\"sq\",\n",
        "    \"Amharic\":\"am\",\n",
        "    \"Arabic\":\"ar\",\n",
        "    \"Armenian\":\"hy\",\n",
        "    \"Assamese*\":\"as\",\n",
        "    \"Aymara*\":\"ay\",\n",
        "    \"Azerbaijani\":\"az\",\n",
        "    \"Bambara*\":\"bm\",\n",
        "    \"Basque\":\"eu\",\n",
        "    \"Belarusian\":\"be\",\n",
        "    \"Bengali\":\"bn\",\n",
        "    \"Bhojpuri*\":\"bho\",\n",
        "    \"Bosnian\":\"bs\",\n",
        "    \"Bulgarian\":\"bg\",\n",
        "    \"Catalan\":\"ca\",\n",
        "    \"Cebuano\":\"ceb\",\n",
        "    \"Chinese(Simplified)\":\"zh-CN\",\n",
        "    \"Chinese(Traditional)\":\"zh-TW\",\n",
        "    \"Corsican\":\"co\",\n",
        "    \"Croatian\":\"hr\",\n",
        "    \"Czech\":\"cs\",\n",
        "    \"Danish\":\"da\",\n",
        "    \"Dhivehi*\":\"dv\",\n",
        "    \"Dogri*\":\"doi\",\n",
        "    \"Dutch\":\"nl\",\n",
        "    \"English\":\"en\",\n",
        "    \"Esperanto\":\"eo\",\n",
        "    \"Estonian\":\"et\",\n",
        "    \"Ewe*\":\"ee\",\n",
        "    \"Filipino(Tagalog)\":\"fil\",\n",
        "    \"Finnish\":\"fi\",\n",
        "    \"French\":\"fr\",\n",
        "    \"Frisian\":\"fy\",\n",
        "    \"Galician\":\"gl\",\n",
        "    \"Georgian\":\"ka\",\n",
        "    \"German\":\"de\",\n",
        "    \"Greek\":\"el\",\n",
        "    \"Guarani*\":\"gn\",\n",
        "    \"Gujarati\":\"gu\",\n",
        "    \"Creole\":\"ht\",\n",
        "    \"Hausa\":\"ha\",\n",
        "    \"Hawaiian\":\"haw\",\n",
        "    \"Hebrew\":\"he\",\n",
        "    \"Hindi\":\"hi\",\n",
        "    \"Hmong\":\"hmn\",\n",
        "    \"Hungarian\":\"hu\",\n",
        "    \"Icelandic\":\"is\",\n",
        "    \"Igbo\":\"ig\",\n",
        "    \"Ilocano*\":\"ilo\",\n",
        "    \"Indonesian\":\"id\",\n",
        "    \"Irish\":\"ga\",\n",
        "    \"Italian\":\"it\",\n",
        "    \"Japanese\":\"ja\",\n",
        "    \"Javanese\":\"jv\",\n",
        "    \"Kannada\":\"kn\",\n",
        "    \"Kazakh\":\"kk\",\n",
        "    \"Khmer\":\"km\",\n",
        "    \"Kinyarwanda\":\"rw\",\n",
        "    \"Konkani*\":\"gom\",\n",
        "    \"Korean\":\"ko\",\n",
        "    \"Krio*\":\"kri\",\n",
        "    \"Kurdish\":\"ku\",\n",
        "    \"Kurdish(Sorani)*\":\"ckb\",\n",
        "    \"Kyrgyz\":\"ky\",\n",
        "    \"Lao\":\"lo\",\n",
        "    \"Latin\":\"la\",\n",
        "    \"Latvian\":\"lv\",\n",
        "    \"Lingala*\":\"ln\",\n",
        "    \"Lithuanian\":\"lt\",\n",
        "    \"Luganda*\":\"lg\",\n",
        "    \"Luxembourgish\":\"lb\",\n",
        "    \"Macedonian\":\"mk\",\n",
        "    \"Maithili*\":\"mai\",\n",
        "    \"Malagasy\":\"mg\",\n",
        "    \"Malay\":\"ms\",\n",
        "    \"Malayalam\":\"ml\",\n",
        "    \"Maltese\":\"mt\",\n",
        "    \"Maori\":\"mi\",\n",
        "    \"Marathi\":\"mr\",\n",
        "    \"Meiteilon(Manipuri)*\":\"mni-Mtei\",\n",
        "    \"Mizo*\":\"lus\",\n",
        "    \"Mongolian\":\"mn\",\n",
        "    \"Myanmar(Burmese)\":\"my\",\n",
        "    \"Nepali\":\"ne\",\n",
        "    \"Norwegian\":\"no\",\n",
        "    \"Nyanja(Chichewa)\":\"ny\",\n",
        "    \"Odia(Oriya)\":\"or\",\n",
        "    \"Oromo*\":\"om\",\n",
        "    \"Pashto\":\"ps\",\n",
        "    \"Persian\":\"fa\",\n",
        "    \"Polish\":\"pl\",\n",
        "    \"Portuguese(Portugal,Brazil)\":\"pt\",\n",
        "    \"Punjabi\":\"pa\",\n",
        "    \"Quechua*\":\"qu\",\n",
        "    \"Romanian\":\"ro\",\n",
        "    \"Russian\":\"ru\",\n",
        "    \"Samoan\":\"sm\",\n",
        "    \"Sanskrit*\":\"sa\",\n",
        "    \"Gaelic\":\"gd\",\n",
        "    \"Sepedi*\":\"nso\",\n",
        "    \"Serbian\":\"sr\",\n",
        "    \"Sesotho\":\"st\",\n",
        "    \"Shona\":\"sn\",\n",
        "    \"Sindhi\":\"sd\",\n",
        "    \"Sinhala(Sinhalese)\":\"si\",\n",
        "    \"Slovak\":\"sk\",\n",
        "    \"Slovenian\":\"sl\",\n",
        "    \"Somali\":\"so\",\n",
        "    \"Spanish\":\"es\",\n",
        "    \"Sundanese\":\"su\",\n",
        "    \"Swahili\":\"sw\",\n",
        "    \"Swedish\":\"sv\",\n",
        "    \"Tagalog(Filipino)\":\"tl\",\n",
        "    \"Tajik\":\"tg\",\n",
        "    \"Tamil\":\"ta\",\n",
        "    \"Tatar\":\"tt\",\n",
        "    \"Telugu\":\"te\",\n",
        "    \"Thai\":\"th\",\n",
        "    \"Tigrinya*\":\"ti\",\n",
        "    \"Tsonga*\":\"ts\",\n",
        "    \"Turkish\":\"tr\",\n",
        "    \"Turkmen\":\"tk\",\n",
        "    \"Twi(Akan)*\":\"ak\",\n",
        "    \"Ukrainian\":\"uk\",\n",
        "    \"Urdu\":\"ur\",\n",
        "    \"Uyghur\":\"ug\",\n",
        "    \"Uzbek\":\"uz\",\n",
        "    \"Vietnamese\":\"vi\",\n",
        "    \"Welsh\":\"cy\",\n",
        "    \"Xhosa\":\"xh\",\n",
        "    \"Yiddish\":\"yi\",\n",
        "    \"Yoruba\":\"yo\",\n",
        "    \"Zulu\":\"zu\"\n",
        "}"
      ]
    },
    {
      "cell_type": "markdown",
      "metadata": {
        "id": "mFqSa0Gbqusb"
      },
      "source": [
        "# Functions"
      ]
    },
    {
      "cell_type": "markdown",
      "metadata": {
        "id": "vDjUKrK7qxgK"
      },
      "source": [
        "## Function to read inputs"
      ]
    },
    {
      "cell_type": "code",
      "execution_count": null,
      "metadata": {
        "id": "Ra_LVdQlVqo3"
      },
      "outputs": [],
      "source": [
        "def inputs():\n",
        "  url = input(\"Please enter the link to the video file : \")\n",
        "\n",
        "  print(list(source_languages_map.keys()))\n",
        "  source_language = input(\"Please select the source language of the subtitle from the above list : \")\n",
        "\n",
        "  print(list(target_languages_map.keys()))\n",
        "  target_language = input(\"Please select the target language for the subtitle from the above list : \")\n",
        "\n",
        "  frame_frequency = int(input(\"Please enter the number of frames within a second to consider for processing : \"))\n",
        "\n",
        "  for resolution in resolutions:\n",
        "    print(resolution)\n",
        "  prefered_resolution = input(\"Please enter your prefered resolution for the video : \")\n",
        "  \n",
        "  return url, source_language, target_language, frame_frequency, prefered_resolution"
      ]
    },
    {
      "cell_type": "markdown",
      "metadata": {
        "id": "a1iIJ5_FXYOX"
      },
      "source": [
        "## Function to set source & target languages"
      ]
    },
    {
      "cell_type": "code",
      "execution_count": null,
      "metadata": {
        "id": "QHtlptgpXXCx"
      },
      "outputs": [],
      "source": [
        "def set_language(source_language, target_language):\n",
        "\n",
        "  mapped_source_language = source_languages_map[source_language]\n",
        "  mapped_target_language = target_languages_map[target_language]\n",
        "  EASY_OCR = easyocr.Reader([mapped_source_language]) ### initiating easyocr\n",
        "  google_translator = GoogleTranslator(source='auto', target = mapped_target_language)\n",
        "\n",
        "  return EASY_OCR, google_translator"
      ]
    },
    {
      "cell_type": "markdown",
      "metadata": {
        "id": "7S5rVYd1Kv-4"
      },
      "source": [
        "## Function to choose highest resolution available for the video"
      ]
    },
    {
      "cell_type": "code",
      "execution_count": null,
      "metadata": {
        "id": "G5UEGhseKvFV"
      },
      "outputs": [],
      "source": [
        "def choose_highest_resolution_available(yt):\n",
        "  stream_unavailable = 1\n",
        "  for resolution in resolutions:\n",
        "    stream = yt.streams.filter(res = resolution).first()\n",
        "    if stream:\n",
        "      stream_unavailable = 0\n",
        "      break\n",
        "    else:\n",
        "      print(resolution, f\" resolution is not available for the video {title}. Trying with the a lower resolution..\")\n",
        "  if stream_unavailable:\n",
        "    print(\"It seams that the entered URL is a faulty one. Kindly recheck the URL.\")\n",
        "  return stream"
      ]
    },
    {
      "cell_type": "markdown",
      "metadata": {
        "id": "ZRAxteBoq1E7"
      },
      "source": [
        "## Funtion to download video from youtube"
      ]
    },
    {
      "cell_type": "code",
      "execution_count": null,
      "metadata": {
        "id": "Wl8mW-kNmvE3"
      },
      "outputs": [],
      "source": [
        "def youtube_downloader(url, prefered_resolution):\n",
        "  yt = YouTube(url)\n",
        "  title = yt.title\n",
        "\n",
        "  if prefered_resolution:\n",
        "    stream = yt.streams.filter(res = prefered_resolution).first()\n",
        "    if not stream:\n",
        "      highest_available_resolution = int(input(f\"{prefered_resolution} resolution is not available for the video {title}. \\n\\tEnter 0 to cancel the process. \\n\\tEnter 1 to try with the highest resolution available.\\n\\n Please enter your reply  : \"))\n",
        "      if highest_available_resolution:\n",
        "        stream = choose_highest_resolution_available(yt)\n",
        "      else:\n",
        "        stream = False\n",
        "  else:\n",
        "    stream = choose_highest_resolution_available(yt)\n",
        "\n",
        "  if stream:\n",
        "    stream.download()\n",
        "  else:\n",
        "    return False\n",
        "  return title"
      ]
    },
    {
      "cell_type": "markdown",
      "metadata": {
        "id": "BNUD5UMvq7pT"
      },
      "source": [
        "## Function to download from colab to local system"
      ]
    },
    {
      "cell_type": "code",
      "execution_count": null,
      "metadata": {
        "id": "pOUamBPVvk3i"
      },
      "outputs": [],
      "source": [
        "def download_colab_files(vid_path):\n",
        "  try:\n",
        "    files.download(f'{vid_path[:-4]}.srt')\n",
        "    files.download(vid_path)\n",
        "  except:\n",
        "    print(\"Downloading not possible.\")"
      ]
    },
    {
      "cell_type": "markdown",
      "metadata": {
        "id": "-7oI8qsorHJj"
      },
      "source": [
        "## Function to derive timestamp from frame number"
      ]
    },
    {
      "cell_type": "code",
      "execution_count": null,
      "metadata": {
        "id": "NYwgblRWEOrV"
      },
      "outputs": [],
      "source": [
        "def frame_timecode(frame_number):\n",
        "  # frame_hours = frame_number //(fps * 3600)\n",
        "  frame_minutes = frame_number // (fps * 60) % 60\n",
        "  frme_seconds =  frame_number // fps % 60\n",
        "  frame_milliseconds = format((frame_number%fps)*60/fps,\".1f\")\n",
        "\n",
        "  min_seconds = format((frame_minutes + frme_seconds/100),\".2f\")\n",
        "\n",
        "  frame_time_std = '00:' + str(min_seconds).replace('.',':') + ',' + str(frame_milliseconds).replace('.','')\n",
        "  return frame_time_std"
      ]
    },
    {
      "cell_type": "markdown",
      "metadata": {
        "id": "S5Hbdc1LrOT2"
      },
      "source": [
        "## Function to generate the subtitle file"
      ]
    },
    {
      "cell_type": "code",
      "execution_count": null,
      "metadata": {
        "id": "FFyrvRZ6EpVm"
      },
      "outputs": [],
      "source": [
        "def write_subtitle(subtitle):\n",
        "  global dia_num\n",
        "  global previous_frame_num\n",
        "\n",
        "  frame_time = frame_timecode(frame_num)\n",
        "  print(\"keys : \",dialog.keys())\n",
        "  if subtitle in dialog.keys():\n",
        "    print(\"#####################################################\")\n",
        "    dialog[subtitle][1] = frame_time\n",
        "\n",
        "  else:\n",
        "    try:\n",
        "      if list(dialog.keys()):\n",
        "        previous_sentence = str(list(dialog.keys())[0])\n",
        "\n",
        "    except:\n",
        "      pass\n",
        "    finally:\n",
        "      if dialog[previous_sentence][0] != dialog[previous_sentence][1]:\n",
        "        translated_previous_sentence = google_translator.translate(previous_sentence)\n",
        "        file_entry = str(dialog[previous_sentence][0]) + ' --> ' + str(dialog[previous_sentence][1]) + '\\n' + translated_previous_sentence + '\\n\\n'\n",
        "        \n",
        "        with open(f'{vid_path[:-4]}.srt' , 'a') as f:\n",
        "          f.write (line)\n",
        "          f.write (file_entry)\n",
        "        dia_num += 1\n",
        "      try:\n",
        "        if frame_num != previous_frame_num:\n",
        "          dialog.clear()\n",
        "          previous_frame_num = frame_num\n",
        "      except:\n",
        "        pass\n",
        "      finally:\n",
        "        dialog.update({subtitle : [frame_time,frame_time]})\n",
        "\n",
        "  print('\\n'*10)"
      ]
    },
    {
      "cell_type": "markdown",
      "source": [
        "## Function to find files in a directory"
      ],
      "metadata": {
        "id": "iidw6w1mpTmF"
      }
    },
    {
      "cell_type": "code",
      "source": [
        "def find_files(directory_path, extension = ''):\n",
        "  file_list = []\n",
        "  for files in os.listdir(directory_path):\n",
        "    print('files : ', files)\n",
        "    if files.endswith(extension):\n",
        "        file_list.append(files)\n",
        "\n",
        "  return file_list"
      ],
      "metadata": {
        "id": "MNkEF6-bpSIm"
      },
      "execution_count": null,
      "outputs": []
    },
    {
      "cell_type": "markdown",
      "metadata": {
        "id": "Pvouw5rBrWGt"
      },
      "source": [
        "# Main"
      ]
    },
    {
      "cell_type": "code",
      "execution_count": null,
      "metadata": {
        "id": "yaPb4X3zVqmv"
      },
      "outputs": [],
      "source": [
        "url, source_language, target_language, frame_frequency, prefered_resolution = inputs()\n",
        "# frame_frequency = 2\n",
        "if url !=None:\n",
        "\n",
        "  directory_path = '/content/content_folder/'\n",
        "\n",
        "  try:\n",
        "    os.chdir(directory_path)\n",
        "\n",
        "  except:\n",
        "    os.mkdir(directory_path)\n",
        "    os.chdir(directory_path)\n",
        "    \n",
        "  title = youtube_downloader(url, prefered_resolution)\n",
        "  \n",
        "  file_list = find_files(directory_path, extension = '.mp4')\n",
        "\n",
        "\n",
        "  vid_path = directory_path + file_list[0]\n",
        "\n",
        "  print(\"[INFO] Processing the video : \", title)\n",
        "  if title:\n",
        "\n",
        "    EASY_OCR, google_translator = set_language(source_language, target_language)\n",
        "\n",
        "    print(f\"[INFO] Working with video: {vid_path}\")\n",
        "\n",
        "    ## reading the video\n",
        "    cap = cv2.VideoCapture(vid_path)\n",
        "\n",
        "\n",
        "    # by default VideoCapture returns float instead of int\n",
        "    fps = cap.get(cv2.CAP_PROP_FPS)\n",
        "    # print(fps, frame_frequency)\n",
        "    frame_frequency = fps//frame_frequency\n",
        "\n",
        "    # Declaring needed variables\n",
        "    frame_num = 1\n",
        "    img_height = 0\n",
        "    dialog = {'Start': [0,0]}\n",
        "    previous_sentence = ''\n",
        "    dia_num = int(0)\n",
        "    previous_frame_num = 1000\n",
        "\n",
        "    while True:\n",
        "        ret, img = cap.read()\n",
        "        if ret:\n",
        "          if int(frame_num % frame_frequency) == 0:\n",
        "            # print('frame_num : ', frame_num)\n",
        "            if img_height == 0:\n",
        "              img_height = int(img.shape[0]*0.6)\n",
        "\n",
        "            img = img[img_height : , :]\n",
        "            img = cv2.cvtColor(img,cv2.COLOR_BGR2RGB)\n",
        "            # cv2_imshow(img)\n",
        "            # img=np.expand_dims(img, axis=0) # will move it to (1,28,28)\n",
        "            try:\n",
        "              results = EASY_OCR.readtext(img)\n",
        "              if len(results) > 0:\n",
        "                for sentence in results:\n",
        "                  write_subtitle(sentence[1])\n",
        "            except:\n",
        "              pass\n",
        "          frame_num += 1\n",
        "        else:\n",
        "          download_colab_files(vid_path)\n",
        "          break"
      ]
    },
    {
      "cell_type": "markdown",
      "source": [
        "'/content/Decibel (2022) Official Trailer  Lee Jong Suk Cha Eun Woo Kim Rae Won Lee Min Ki.mp4'\n",
        "\n",
        "\n",
        "'/content/Decibel (2022) Official Trailer | Lee Jong Suk, Cha Eun Woo, Kim Rae Won, Lee Min Ki.mp4'"
      ],
      "metadata": {
        "id": "-FBZzgGZkZ9k"
      }
    }
  ],
  "metadata": {
    "accelerator": "GPU",
    "colab": {
      "provenance": [],
      "include_colab_link": true
    },
    "kernelspec": {
      "display_name": "Python 3",
      "name": "python3"
    },
    "language_info": {
      "name": "python"
    }
  },
  "nbformat": 4,
  "nbformat_minor": 0
}